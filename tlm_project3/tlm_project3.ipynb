{
 "cells": [
  {
   "cell_type": "markdown",
   "metadata": {
    "colab_type": "text",
    "id": "4B-PufZvpEAT"
   },
   "source": [
    "# TLM PROJECT | Fasting Blood Sugar Prediction | Level 8/10"
   ]
  },
  {
   "cell_type": "markdown",
   "metadata": {
    "colab_type": "text",
    "id": "bi0GNJMBp_cR"
   },
   "source": [
    "**www.thelearningmachine.ai**\n",
    "\n",
    "In this project, you have to build a model that **predicts fasting blood sugar** of a patient **is > 120 mg/dl**.\n",
    "\n",
    "The project contains 7 sections in total, each with step-by-step instructions of what to do. Note that, as we go further with our lessons, we will try to step away from guided projects like this to \"less-guided\", with less intructions involved. Thus, my advice is try to understand why we do what we do in what order.\n",
    "\n",
    "## I. Structure\n",
    "The project is split into **7 sections**, each containing **step-by-step instructions** of what to do. These 8 sections are the following:\n",
    "1.   Import the Libratries\n",
    "2.   Import the Datasets\n",
    "3.   Data Preprocessing\n",
    "4.   Data Overview\n",
    "5.   Model Building\n",
    "6.   Model Evaluation & Hyperparameter Tuning\n",
    "7.   Conclusion\n",
    "\n",
    "## II. Data\n",
    "There are two datasets provided that you should use for this project:\n",
    "- fbs1.xlsx\n",
    "- fbs2.xlsx\n",
    "\n",
    "### > Columns:\n",
    "- age: age in years\n",
    "- sex: (1 = male; 0 = female)\n",
    "- cp: chest pain type\n",
    "- trestbps: resting blood pressure (in mm Hg on admission to the hospital)\n",
    "- chol: serum cholestoral in mg/dl\n",
    "- restecg: resting electrocardiographic results\n",
    "- thalach: maximum heart rate achieved\n",
    "- exang: exercise induced angina (1 = yes; 0 = no)\n",
    "- oldpeak: ST depression induced by exercise relative to rest\n",
    "- slope: the slope of the peak exercise ST segment\n",
    "- ca: number of major vessels (0-3) colored by flourosopy\n",
    "- thal: 3 = normal; 6 = fixed defect; 7 = reversable defect\n",
    "- fbs: (target - fasting blood sugar > 120 mg/dl): 1 = true; 0 = false\n",
    "\n",
    "### > Description:\n",
    "Attribute Information: \n",
    "> 1. age \n",
    "> 2. sex \n",
    "> 3. chest pain type (4 values) \n",
    "> 4. resting blood pressure \n",
    "> 5. serum cholestoral in mg/dl \n",
    "> 6. resting electrocardiographic results (values 0,1,2)\n",
    "> 7. maximum heart rate achieved \n",
    "> 8. exercise induced angina \n",
    "> 9. oldpeak = ST depression induced by exercise relative to rest \n",
    "> 10. the slope of the peak exercise ST segment \n",
    "> 11. number of major vessels (0-3) colored by flourosopy \n",
    "> 12. thal: 3 = normal; 6 = fixed defect; 7 = reversable defect\n",
    "> 13. fasting blood sugar > 120 mg/dl\n",
    "The names and social security numbers of the patients were recently removed from the database, replaced with dummy values. One file has been \"processed\", that one containing the Cleveland database. All four unprocessed files also exist in this directory."
   ]
  },
  {
   "cell_type": "markdown",
   "metadata": {},
   "source": [
    "# Place For Your Functions"
   ]
  },
  {
   "cell_type": "code",
   "execution_count": 34,
   "metadata": {},
   "outputs": [],
   "source": []
  },
  {
   "cell_type": "markdown",
   "metadata": {
    "colab_type": "text",
    "id": "N8qNIFOYrO3b"
   },
   "source": [
    "# 1. Import the Libraries"
   ]
  },
  {
   "cell_type": "markdown",
   "metadata": {
    "colab_type": "text",
    "id": "eoxcn92XrNvk"
   },
   "source": [
    "First things first, import the libraries needed (here you will also add up libraries that you need for this assignment)"
   ]
  },
  {
   "cell_type": "code",
   "execution_count": 2,
   "metadata": {
    "colab": {},
    "colab_type": "code",
    "id": "8y9j69xRpEAU"
   },
   "outputs": [],
   "source": []
  },
  {
   "cell_type": "markdown",
   "metadata": {
    "colab_type": "text",
    "id": "IGScRS9srYdC"
   },
   "source": [
    "# 2. Import the datasets"
   ]
  },
  {
   "cell_type": "markdown",
   "metadata": {
    "colab_type": "text",
    "id": "M2EbRN5hrYnC"
   },
   "source": [
    "Do the following:\n",
    "\n",
    "*   **Step 1**: Understand where the current working directory is\n",
    "*   **Step 2**: Import two datasets as df1 and df2\n",
    "*   **Step 3**: Check the shape of each dataset by returning two lines with one print function: \n",
    "\n",
    "Data shape of df1 is (X, Y),\n",
    "\n",
    "Data shape of df2 is (X, Y), \n",
    "\n",
    "\n",
    "Use .format funtion for that."
   ]
  },
  {
   "cell_type": "code",
   "execution_count": null,
   "metadata": {
    "colab": {},
    "colab_type": "code",
    "id": "haOdGjYXpEAY"
   },
   "outputs": [],
   "source": []
  },
  {
   "cell_type": "markdown",
   "metadata": {
    "colab_type": "text",
    "id": "8kRVSK1Opfyv"
   },
   "source": [
    "# 3. Data Preprocessing"
   ]
  },
  {
   "cell_type": "markdown",
   "metadata": {
    "colab_type": "text",
    "id": "0ufLz0XHpgBW"
   },
   "source": [
    "**Step 1:** Combine two datasets into one\n",
    "\n",
    "**Step 2**: Create a class called \"Prep\". Inside that class write functions that: \n",
    "- Prints unique values of each column\n",
    "- Prints data types\n",
    "- Replaces null values with 0.\n",
    "- Replaces inapropriate values - \"?\", \"\\\" and \"!\" of a certain column with 0.\n",
    "- Converts words \"Null\", \"One\" and \"one\" in target column into numeric form.\n",
    "\n",
    "**Step 3**: Change data types if needed.\n",
    "\n",
    "\n",
    "**Step 4**: Now, you have to preprocess id column. Something messed it up, as it should be in the form [ letter \"t\", \"l\" or \"m\" ] + [number] - e.g. \"t18\", \"l891\" or \"m142\". So how to make, for instance, \"m142\" out of \"9867r13m12e1_142\"? You should take either \"l\", \"m\", or \"t\" from that id (note that you will have multiple different letters in ids) + the number, which is digits coming after an underscore \"_\". Here are some examples of the transformation: \n",
    "- \"9867t13e12r1_92\" -> \"t92\". Even though we see two other letters in this id (\"r\" and \"e\"), the letter \"t\" should be - \"9867r13e12m1_1203\" -> \"m1203\"\n",
    "- \"343e2832j093k38042t8920402n_778\" -> \"t778\". \n",
    "\n",
    "Create a for loop that would do that. for all the cells inside the id column.\n",
    "\n",
    "**Step 5**: Validate the data: check dtypes (presence of wrong values <?, !>, null values etc), and unique values for each column"
   ]
  },
  {
   "cell_type": "markdown",
   "metadata": {
    "colab_type": "text",
    "id": "qKx2Nx7WunjR"
   },
   "source": [
    "## Step 1"
   ]
  },
  {
   "cell_type": "code",
   "execution_count": null,
   "metadata": {
    "colab": {},
    "colab_type": "code",
    "id": "5XB_v2TPpEAe"
   },
   "outputs": [],
   "source": []
  },
  {
   "cell_type": "markdown",
   "metadata": {
    "colab_type": "text",
    "id": "yumSBUj6uqfw"
   },
   "source": [
    "## Step 3"
   ]
  },
  {
   "cell_type": "code",
   "execution_count": null,
   "metadata": {},
   "outputs": [],
   "source": []
  },
  {
   "cell_type": "markdown",
   "metadata": {
    "colab_type": "text",
    "id": "FGBz8NaUvjql"
   },
   "source": [
    "## Step 4"
   ]
  },
  {
   "cell_type": "code",
   "execution_count": null,
   "metadata": {
    "scrolled": true
   },
   "outputs": [],
   "source": []
  },
  {
   "cell_type": "markdown",
   "metadata": {
    "colab_type": "text",
    "id": "Wdxk9oTq3ndy"
   },
   "source": [
    "# 4. Data Overview"
   ]
  },
  {
   "cell_type": "markdown",
   "metadata": {
    "colab_type": "text",
    "id": "PQWZwzwz3qUC"
   },
   "source": [
    "Observe the data:\n",
    "\n",
    "*   **Step 1**: Find out what is the mean for trestbps and cholan across people with heart deseases and not. \n",
    "*   **Step 2**: Find out what is the mean for thalach across people with heart deseases and not"
   ]
  },
  {
   "cell_type": "markdown",
   "metadata": {
    "colab_type": "text",
    "id": "y5bSQ2_B4yuL"
   },
   "source": [
    "## Step 1"
   ]
  },
  {
   "cell_type": "code",
   "execution_count": null,
   "metadata": {},
   "outputs": [],
   "source": []
  },
  {
   "cell_type": "markdown",
   "metadata": {
    "colab_type": "text",
    "id": "3hzyVeZG4y-Z"
   },
   "source": [
    "## Step 2"
   ]
  },
  {
   "cell_type": "code",
   "execution_count": null,
   "metadata": {
    "colab": {},
    "colab_type": "code",
    "id": "VuyIi2SR4zGx"
   },
   "outputs": [],
   "source": []
  },
  {
   "cell_type": "markdown",
   "metadata": {
    "colab_type": "text",
    "id": "lWjSbgMsv9fv"
   },
   "source": [
    "# 5. Model Building"
   ]
  },
  {
   "cell_type": "markdown",
   "metadata": {
    "colab_type": "text",
    "id": "uH5OXofDv_4s"
   },
   "source": [
    "Do the following:\n",
    "  \n",
    "*   **Step 1**: Identify X variables that are the most significant indicators for a price category prediction. Set y variable as price category.\n",
    "*   **Step 2**: Split the data into train and test\n",
    "*   **Step 3**: Chose any classifier. The function has to have n hyperparameters that you would like to have."
   ]
  },
  {
   "cell_type": "markdown",
   "metadata": {
    "colab_type": "text",
    "id": "E716ZuUc2cJV"
   },
   "source": [
    "## Step 1"
   ]
  },
  {
   "cell_type": "code",
   "execution_count": null,
   "metadata": {
    "colab": {},
    "colab_type": "code",
    "id": "ay4PMzQIpECJ"
   },
   "outputs": [],
   "source": []
  },
  {
   "cell_type": "markdown",
   "metadata": {
    "colab_type": "text",
    "id": "uMi03wxs2eg7"
   },
   "source": [
    "\n",
    "## Step 2"
   ]
  },
  {
   "cell_type": "code",
   "execution_count": null,
   "metadata": {
    "colab": {},
    "colab_type": "code",
    "id": "6cI1Jo8ixOFU"
   },
   "outputs": [],
   "source": []
  },
  {
   "cell_type": "markdown",
   "metadata": {
    "colab_type": "text",
    "id": "qRX8VZf82g_C"
   },
   "source": [
    "## Step 3"
   ]
  },
  {
   "cell_type": "code",
   "execution_count": null,
   "metadata": {
    "colab": {},
    "colab_type": "code",
    "id": "EgL-1cWMxIpg"
   },
   "outputs": [],
   "source": []
  },
  {
   "cell_type": "markdown",
   "metadata": {},
   "source": [
    "# 6. Model Evaluation & Hyperparameter Tuning\n",
    "\n",
    "**Step 1**: Create a class \"Classifier\". Inside that class write functions that:\n",
    "\n",
    "- Builds Decision Tree and prints the score (with all hyperparameters as parameters of the funtion). \n",
    "    - Write a loop to show how depth of the tree affects accuracy. Print out the results that (1) are lower than the difference of 0.5 between accuracy of a training and test sets, and  (2) are higher than 0.55 for test set\n",
    "    - Write a loop to show how min observations on a node, and min observations on each leaf affect accuracy. Print out the results that (1) are lower than the difference of 0.5 between accuracy of a training and test sets, and (2) are higher than 0.55 for test set\n",
    "    - Plot any accuracy curve in relation to the depth to see how it changes the score.\n",
    "    - Plot any accuracy curve in relation to the min observations on a splittable node to see how it changes the score.\n",
    "- Builds Gradient Boosted Decision Tree and prints the score (with all hyperparameters as parameters of the funtion).\n",
    "    - Write a loop to show how learning rate of the tree affects accuracy. Print out the results that (1) are lower than the difference of 0.5 between accuracy of a training and test sets, and (2) are higher than 0.55 for test set\n",
    "    - Plot any accuracy curve in relation to the depth to see how it changes the score.\n",
    "- Builds Random Forest and prints the score (with all hyperparameters as parameters of the funtion). \n",
    "- Builds Gaussian Decision Tree and prints the score (with all hyperparameters as parameters of the funtion). \n",
    "- Builds Naive Bayes Classifier (think which one you need to build, Gaussian, Multinomial or Bernoulli) and prints the score (with all hyperparameters as parameters of the funtion).\n",
    "\n",
    "**Step 2**: Change several hyperparameters with all tree-based classifiers using a loop and find a way to only print the score result that is higher than X.\n",
    "\n",
    "**Step 3**: Try to predict your target variable by putting some independent variables into your funtion. "
   ]
  },
  {
   "cell_type": "markdown",
   "metadata": {
    "colab_type": "text",
    "id": "yd_Qm_1p2iJf"
   },
   "source": [
    "## Step 1"
   ]
  },
  {
   "cell_type": "code",
   "execution_count": null,
   "metadata": {},
   "outputs": [],
   "source": []
  },
  {
   "cell_type": "markdown",
   "metadata": {
    "colab_type": "text",
    "id": "ejMktDi_2mEX"
   },
   "source": [
    "## Step 2"
   ]
  },
  {
   "cell_type": "code",
   "execution_count": null,
   "metadata": {
    "colab": {},
    "colab_type": "code",
    "id": "iDRS9B4TpECU"
   },
   "outputs": [],
   "source": []
  },
  {
   "cell_type": "markdown",
   "metadata": {},
   "source": [
    "## Step 3"
   ]
  },
  {
   "cell_type": "code",
   "execution_count": null,
   "metadata": {},
   "outputs": [],
   "source": []
  },
  {
   "cell_type": "markdown",
   "metadata": {},
   "source": [
    "# 7. Conclusion\n",
    "\n",
    "Conclude if your model works correctly. Explain how would you do a sanity check."
   ]
  },
  {
   "cell_type": "markdown",
   "metadata": {},
   "source": [
    "Answer:"
   ]
  }
 ],
 "metadata": {
  "colab": {
   "name": "case_project_1.ipynb",
   "provenance": [],
   "toc_visible": true,
   "version": "0.3.2"
  },
  "kernelspec": {
   "display_name": "Python 3",
   "language": "python",
   "name": "python3"
  },
  "language_info": {
   "codemirror_mode": {
    "name": "ipython",
    "version": 3
   },
   "file_extension": ".py",
   "mimetype": "text/x-python",
   "name": "python",
   "nbconvert_exporter": "python",
   "pygments_lexer": "ipython3",
   "version": "3.6.4"
  }
 },
 "nbformat": 4,
 "nbformat_minor": 1
}
