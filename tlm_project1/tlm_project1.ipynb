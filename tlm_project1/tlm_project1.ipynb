{
 "cells": [
  {
   "cell_type": "markdown",
   "metadata": {
    "colab_type": "text",
    "id": "4B-PufZvpEAT"
   },
   "source": [
    "# TLM PROJECT I - Car Price Prediction - 09/2019"
   ]
  },
  {
   "cell_type": "markdown",
   "metadata": {
    "colab_type": "text",
    "id": "bi0GNJMBp_cR"
   },
   "source": [
    "**www.thelearningmachine.ai**\n",
    "\n",
    "\n",
    "In this project, you will build a model that **predicts a car price based on a certain independent variables**.\n",
    "\n",
    "The project contains 6 sections in total, each with **step-by-step instructions** of what to do.  Note that, as we go further with our lessons, we will try to step away from guided projects like this to \"less-guided\", with less intructions involved. Thus, my advice is try to understand why we do what we do in what order. \n",
    "\n",
    "### The six sections are as follows:\n",
    "\n",
    "1.   Import the Libratries\n",
    "2.   Import the datasets\n",
    "3.   Data Preprocessing\n",
    "4.   Data Overview\n",
    "5.   Model Building\n",
    "6.   Conclusion\n",
    "\n"
   ]
  },
  {
   "cell_type": "markdown",
   "metadata": {
    "colab_type": "text",
    "id": "N8qNIFOYrO3b"
   },
   "source": [
    "# 1. Import the Libraries"
   ]
  },
  {
   "cell_type": "markdown",
   "metadata": {
    "colab_type": "text",
    "id": "eoxcn92XrNvk"
   },
   "source": [
    "First things first, import the libraries needed (here you will also add up libraries that you need for this assignment)"
   ]
  },
  {
   "cell_type": "code",
   "execution_count": 0,
   "metadata": {
    "colab": {},
    "colab_type": "code",
    "id": "8y9j69xRpEAU"
   },
   "outputs": [],
   "source": []
  },
  {
   "cell_type": "markdown",
   "metadata": {
    "colab_type": "text",
    "id": "IGScRS9srYdC"
   },
   "source": [
    "# 2. Import the datasets"
   ]
  },
  {
   "cell_type": "markdown",
   "metadata": {
    "colab_type": "text",
    "id": "M2EbRN5hrYnC"
   },
   "source": [
    "Do the following:\n",
    "\n",
    "*   **Step 1**: Understand where the current working directory is\n",
    "*   **Step 2**: Import three datasets as df1, df2 and df3\n",
    "*   **Step 3**: Check the shape of each dataset by printing three lines: \n",
    "\n",
    "Data shape of df1 is (X, Y),\n",
    "\n",
    "Data shape of df2 is (X, Y), \n",
    "\n",
    "Data shape of df3 is (X, Y)\n",
    "\n",
    "\n",
    "Use .format funtion for that.\n",
    "\n"
   ]
  },
  {
   "cell_type": "code",
   "execution_count": 0,
   "metadata": {
    "colab": {},
    "colab_type": "code",
    "id": "haOdGjYXpEAY"
   },
   "outputs": [],
   "source": [
    "# Step 1"
   ]
  },
  {
   "cell_type": "code",
   "execution_count": 0,
   "metadata": {
    "colab": {},
    "colab_type": "code",
    "id": "E9yTNxEOru8E"
   },
   "outputs": [],
   "source": [
    "# Step 2"
   ]
  },
  {
   "cell_type": "markdown",
   "metadata": {
    "colab_type": "text",
    "id": "8kRVSK1Opfyv"
   },
   "source": [
    "# 3. Data Preprocessing"
   ]
  },
  {
   "cell_type": "markdown",
   "metadata": {
    "colab_type": "text",
    "id": "0ufLz0XHpgBW"
   },
   "source": [
    "Do the following:\n",
    "\n",
    "\n",
    "*   **Step 1:** Combine three datasets into 1\n",
    "*   **Step 2**: Check data types. Change if needed.\n",
    "*   **Step 3**: Check unique values of each column. Investigate them. Is everything fine? Bonus: create a function unique(col), that would print unique values for a certain column 'col' (where 'col' is a name of a column in string format)\n",
    "*   **Step 4**: Check the null and inapropriate values (like ? or !). If there are any, replace them with 0 (if numeric), or 'None' (if categorical).\n",
    "*   **Step 5**: Normalize the data. Divide the prices by 1000 so that the values are in k euros. \n",
    "*   **Step 6**: Validate the data: check dtypes (presence of wrong values (?, !), null values etc), and unique values for each column"
   ]
  },
  {
   "cell_type": "markdown",
   "metadata": {
    "colab_type": "text",
    "id": "qKx2Nx7WunjR"
   },
   "source": [
    "## Step 1"
   ]
  },
  {
   "cell_type": "code",
   "execution_count": 0,
   "metadata": {
    "colab": {},
    "colab_type": "code",
    "id": "5XB_v2TPpEAe"
   },
   "outputs": [],
   "source": []
  },
  {
   "cell_type": "markdown",
   "metadata": {
    "colab_type": "text",
    "id": "yumSBUj6uqfw"
   },
   "source": [
    "## Step 2"
   ]
  },
  {
   "cell_type": "code",
   "execution_count": 0,
   "metadata": {
    "colab": {},
    "colab_type": "code",
    "id": "zXewDLr7pEAi"
   },
   "outputs": [],
   "source": []
  },
  {
   "cell_type": "markdown",
   "metadata": {
    "colab_type": "text",
    "id": "L0Y1WdJZvh7k"
   },
   "source": [
    "## Step 3"
   ]
  },
  {
   "cell_type": "code",
   "execution_count": 0,
   "metadata": {
    "colab": {},
    "colab_type": "code",
    "id": "IvDvI232pEAm"
   },
   "outputs": [],
   "source": []
  },
  {
   "cell_type": "markdown",
   "metadata": {
    "colab_type": "text",
    "id": "FGBz8NaUvjql"
   },
   "source": [
    "## Step 4"
   ]
  },
  {
   "cell_type": "code",
   "execution_count": 0,
   "metadata": {
    "colab": {},
    "colab_type": "code",
    "id": "5dk1O-dMpEAo"
   },
   "outputs": [],
   "source": []
  },
  {
   "cell_type": "markdown",
   "metadata": {
    "colab_type": "text",
    "id": "yicb8JvmvlPx"
   },
   "source": [
    "## Step 5"
   ]
  },
  {
   "cell_type": "code",
   "execution_count": 0,
   "metadata": {
    "colab": {},
    "colab_type": "code",
    "id": "NMkNttjZvskG"
   },
   "outputs": [],
   "source": []
  },
  {
   "cell_type": "markdown",
   "metadata": {
    "colab_type": "text",
    "id": "oQAZF9v3pEAw"
   },
   "source": [
    "## Step 6"
   ]
  },
  {
   "cell_type": "code",
   "execution_count": 0,
   "metadata": {
    "colab": {},
    "colab_type": "code",
    "id": "k4xozgBWpEAx"
   },
   "outputs": [],
   "source": []
  },
  {
   "cell_type": "markdown",
   "metadata": {
    "colab_type": "text",
    "id": "Wdxk9oTq3ndy"
   },
   "source": [
    "# 4. Data Overview"
   ]
  },
  {
   "cell_type": "markdown",
   "metadata": {
    "colab_type": "text",
    "id": "PQWZwzwz3qUC"
   },
   "source": [
    "Observe the data:\n",
    "\n",
    "\n",
    "*   **Step 1**: Find an average price,  an average engine size,  an average bore and  an average stroke across different car manufacturers (column named 'make'). \n",
    "*   **Step 2**: Split car manufacturers into body styles (column named 'body-style' column) and find their an average price, an average engine size, an average bore and an average stroke\n",
    "*   **Step 3**: Find a total amount of money manufacturers got from their cars. (sum the prices for each manufacturer)\n",
    "\n"
   ]
  },
  {
   "cell_type": "markdown",
   "metadata": {
    "colab_type": "text",
    "id": "y5bSQ2_B4yuL"
   },
   "source": [
    "## Step 1"
   ]
  },
  {
   "cell_type": "code",
   "execution_count": 0,
   "metadata": {
    "colab": {},
    "colab_type": "code",
    "id": "KQpL0aMo4y3T"
   },
   "outputs": [],
   "source": []
  },
  {
   "cell_type": "markdown",
   "metadata": {
    "colab_type": "text",
    "id": "3hzyVeZG4y-Z"
   },
   "source": [
    "## Step 2"
   ]
  },
  {
   "cell_type": "code",
   "execution_count": 0,
   "metadata": {
    "colab": {},
    "colab_type": "code",
    "id": "VuyIi2SR4zGx"
   },
   "outputs": [],
   "source": []
  },
  {
   "cell_type": "markdown",
   "metadata": {
    "colab_type": "text",
    "id": "M7ACBXgh4zN4"
   },
   "source": [
    "## Step 3"
   ]
  },
  {
   "cell_type": "code",
   "execution_count": 0,
   "metadata": {
    "colab": {},
    "colab_type": "code",
    "id": "cIgbKU-v4zVs"
   },
   "outputs": [],
   "source": []
  },
  {
   "cell_type": "markdown",
   "metadata": {
    "colab_type": "text",
    "id": "lWjSbgMsv9fv"
   },
   "source": [
    "# 5. Model Building"
   ]
  },
  {
   "cell_type": "markdown",
   "metadata": {
    "colab_type": "text",
    "id": "uH5OXofDv_4s"
   },
   "source": [
    "Do the following:\n",
    "\n",
    "\n",
    "*   **Step 1**: Set two X variables (int) that you think are the most significant indicators for a price prediction (I'd advice taking horsepower as one of the two). Set y variable as price\n",
    "*   **Step 2**: Split the data into train and test\n",
    "*   **Step 3**: Import Lasso regression. You have to know that Lasso() model has different parameters. Check them out on the web. Set alpha = 1.5 and max_iter = 10000)\n",
    "*   **Step 4**: Fit the train data\n",
    "*   **Step 5**: Print lasso's intercept and coefficient\n",
    "*   **Step 6**: Print a score for the test data\n",
    "*   **Step 7**: Predict a price of a car that has 90 hoursepowers and n (any value) of X2. Predict a price of a car that has 330 hoursepowers and n (any value) of X2. Is the car price different in this case? Do both results make sence? \n",
    "*   **Step 8**: Code a loop that would print a score for Lasso with alpha = 0.5, 1, 1.5, 2, 2.5, 3, 3.5, 4.\n",
    "\n"
   ]
  },
  {
   "cell_type": "markdown",
   "metadata": {
    "colab_type": "text",
    "id": "E716ZuUc2cJV"
   },
   "source": [
    "## Step 1"
   ]
  },
  {
   "cell_type": "code",
   "execution_count": 0,
   "metadata": {
    "colab": {},
    "colab_type": "code",
    "id": "ay4PMzQIpECJ"
   },
   "outputs": [],
   "source": []
  },
  {
   "cell_type": "markdown",
   "metadata": {
    "colab_type": "text",
    "id": "uMi03wxs2eg7"
   },
   "source": [
    "## Step 2"
   ]
  },
  {
   "cell_type": "code",
   "execution_count": 0,
   "metadata": {
    "colab": {},
    "colab_type": "code",
    "id": "6cI1Jo8ixOFU"
   },
   "outputs": [],
   "source": []
  },
  {
   "cell_type": "markdown",
   "metadata": {
    "colab_type": "text",
    "id": "qRX8VZf82g_C"
   },
   "source": [
    "## Step 3"
   ]
  },
  {
   "cell_type": "code",
   "execution_count": 0,
   "metadata": {
    "colab": {},
    "colab_type": "code",
    "id": "EgL-1cWMxIpg"
   },
   "outputs": [],
   "source": []
  },
  {
   "cell_type": "markdown",
   "metadata": {
    "colab_type": "text",
    "id": "MIHwdcNo2i53"
   },
   "source": [
    "## Step 4"
   ]
  },
  {
   "cell_type": "code",
   "execution_count": 0,
   "metadata": {
    "colab": {},
    "colab_type": "code",
    "id": "uLIodxYHpECM"
   },
   "outputs": [],
   "source": []
  },
  {
   "cell_type": "markdown",
   "metadata": {
    "colab_type": "text",
    "id": "yd_Qm_1p2iJf"
   },
   "source": [
    "## Step 5"
   ]
  },
  {
   "cell_type": "code",
   "execution_count": 0,
   "metadata": {
    "colab": {},
    "colab_type": "code",
    "id": "mm6m1Wx4pECR"
   },
   "outputs": [],
   "source": []
  },
  {
   "cell_type": "markdown",
   "metadata": {
    "colab_type": "text",
    "id": "ejMktDi_2mEX"
   },
   "source": [
    "## Step 6"
   ]
  },
  {
   "cell_type": "code",
   "execution_count": 0,
   "metadata": {
    "colab": {},
    "colab_type": "code",
    "id": "iDRS9B4TpECU"
   },
   "outputs": [],
   "source": []
  },
  {
   "cell_type": "markdown",
   "metadata": {
    "colab_type": "text",
    "id": "51JB5gu62ntX"
   },
   "source": [
    "## Step 7"
   ]
  },
  {
   "cell_type": "code",
   "execution_count": 0,
   "metadata": {
    "colab": {},
    "colab_type": "code",
    "id": "7HcSAQeypECY"
   },
   "outputs": [],
   "source": []
  },
  {
   "cell_type": "markdown",
   "metadata": {
    "colab_type": "text",
    "id": "9Ui382JY2p1A"
   },
   "source": [
    "## Step 8"
   ]
  },
  {
   "cell_type": "code",
   "execution_count": 0,
   "metadata": {
    "colab": {},
    "colab_type": "code",
    "id": "R6af-juqxwQL"
   },
   "outputs": [],
   "source": []
  },
  {
   "cell_type": "markdown",
   "metadata": {
    "colab_type": "text",
    "id": "d4KGlHfB49YP"
   },
   "source": [
    "# 6. Conclusion"
   ]
  },
  {
   "cell_type": "markdown",
   "metadata": {
    "colab_type": "text",
    "id": "-7JZfIl95HHV"
   },
   "source": [
    "Conclude if your model works correctly. Explain how would you do a sanity check."
   ]
  }
 ],
 "metadata": {
  "colab": {
   "name": "case_project_1.ipynb",
   "provenance": [],
   "toc_visible": true,
   "version": "0.3.2"
  },
  "kernelspec": {
   "display_name": "Python 3",
   "language": "python",
   "name": "python3"
  },
  "language_info": {
   "codemirror_mode": {
    "name": "ipython",
    "version": 3
   },
   "file_extension": ".py",
   "mimetype": "text/x-python",
   "name": "python",
   "nbconvert_exporter": "python",
   "pygments_lexer": "ipython3",
   "version": "3.6.4"
  }
 },
 "nbformat": 4,
 "nbformat_minor": 1
}
